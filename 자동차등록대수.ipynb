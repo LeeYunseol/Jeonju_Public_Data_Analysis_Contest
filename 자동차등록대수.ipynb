{
 "cells": [
  {
   "cell_type": "code",
   "execution_count": 22,
   "id": "326ac1ff",
   "metadata": {},
   "outputs": [],
   "source": [
    "import matplotlib.pyplot as plt\n",
    " \n",
    "# 한글 폰트 사용을 위해서 세팅\n",
    "from matplotlib import font_manager, rc\n",
    "font_path = \"C:/Windows/Fonts/NGULIM.TTF\"\n",
    "font = font_manager.FontProperties(fname=font_path).get_name()\n",
    "rc('font', family=font)"
   ]
  },
  {
   "cell_type": "code",
   "execution_count": 23,
   "id": "1cec54b2",
   "metadata": {},
   "outputs": [
    {
     "data": {
      "text/html": [
       "<div>\n",
       "<style scoped>\n",
       "    .dataframe tbody tr th:only-of-type {\n",
       "        vertical-align: middle;\n",
       "    }\n",
       "\n",
       "    .dataframe tbody tr th {\n",
       "        vertical-align: top;\n",
       "    }\n",
       "\n",
       "    .dataframe thead th {\n",
       "        text-align: right;\n",
       "    }\n",
       "</style>\n",
       "<table border=\"1\" class=\"dataframe\">\n",
       "  <thead>\n",
       "    <tr style=\"text-align: right;\">\n",
       "      <th></th>\n",
       "      <th>차종별</th>\n",
       "      <th>항목</th>\n",
       "      <th>2021.10</th>\n",
       "      <th>2021.10.1</th>\n",
       "      <th>2021.10.2</th>\n",
       "      <th>2016</th>\n",
       "      <th>2016.1</th>\n",
       "      <th>2016.2</th>\n",
       "      <th>2017</th>\n",
       "      <th>2017.1</th>\n",
       "      <th>2017.2</th>\n",
       "      <th>2018</th>\n",
       "      <th>2018.1</th>\n",
       "      <th>2018.2</th>\n",
       "      <th>2019</th>\n",
       "      <th>2019.1</th>\n",
       "      <th>2019.2</th>\n",
       "      <th>2020</th>\n",
       "      <th>2020.1</th>\n",
       "      <th>2020.2</th>\n",
       "    </tr>\n",
       "  </thead>\n",
       "  <tbody>\n",
       "    <tr>\n",
       "      <th>0</th>\n",
       "      <td>차종별</td>\n",
       "      <td>항목</td>\n",
       "      <td>전주시</td>\n",
       "      <td>완산구</td>\n",
       "      <td>덕진구</td>\n",
       "      <td>전주시</td>\n",
       "      <td>완산구</td>\n",
       "      <td>덕진구</td>\n",
       "      <td>전주시</td>\n",
       "      <td>완산구</td>\n",
       "      <td>덕진구</td>\n",
       "      <td>전주시</td>\n",
       "      <td>완산구</td>\n",
       "      <td>덕진구</td>\n",
       "      <td>전주시</td>\n",
       "      <td>완산구</td>\n",
       "      <td>덕진구</td>\n",
       "      <td>전주시</td>\n",
       "      <td>완산구</td>\n",
       "      <td>덕진구</td>\n",
       "    </tr>\n",
       "    <tr>\n",
       "      <th>1</th>\n",
       "      <td>계</td>\n",
       "      <td>계 (대)</td>\n",
       "      <td>337952</td>\n",
       "      <td>157354</td>\n",
       "      <td>180598</td>\n",
       "      <td>296296</td>\n",
       "      <td>148995</td>\n",
       "      <td>147301</td>\n",
       "      <td>303580</td>\n",
       "      <td>152598</td>\n",
       "      <td>150982</td>\n",
       "      <td>315489</td>\n",
       "      <td>150426</td>\n",
       "      <td>165063</td>\n",
       "      <td>324152</td>\n",
       "      <td>151111</td>\n",
       "      <td>173041</td>\n",
       "      <td>334386</td>\n",
       "      <td>155805</td>\n",
       "      <td>178581</td>\n",
       "    </tr>\n",
       "    <tr>\n",
       "      <th>2</th>\n",
       "      <td>계</td>\n",
       "      <td>관  용 (대)</td>\n",
       "      <td>1099</td>\n",
       "      <td>759</td>\n",
       "      <td>340</td>\n",
       "      <td>916</td>\n",
       "      <td>559</td>\n",
       "      <td>357</td>\n",
       "      <td>957</td>\n",
       "      <td>589</td>\n",
       "      <td>368</td>\n",
       "      <td>1013</td>\n",
       "      <td>595</td>\n",
       "      <td>418</td>\n",
       "      <td>1077</td>\n",
       "      <td>670</td>\n",
       "      <td>407</td>\n",
       "      <td>1095</td>\n",
       "      <td>718</td>\n",
       "      <td>377</td>\n",
       "    </tr>\n",
       "    <tr>\n",
       "      <th>3</th>\n",
       "      <td>계</td>\n",
       "      <td>자가용 (대)</td>\n",
       "      <td>325755</td>\n",
       "      <td>152422</td>\n",
       "      <td>173333</td>\n",
       "      <td>283893</td>\n",
       "      <td>144426</td>\n",
       "      <td>139467</td>\n",
       "      <td>291237</td>\n",
       "      <td>147910</td>\n",
       "      <td>143327</td>\n",
       "      <td>302930</td>\n",
       "      <td>145773</td>\n",
       "      <td>157157</td>\n",
       "      <td>311490</td>\n",
       "      <td>146337</td>\n",
       "      <td>165153</td>\n",
       "      <td>321870</td>\n",
       "      <td>150873</td>\n",
       "      <td>170997</td>\n",
       "    </tr>\n",
       "    <tr>\n",
       "      <th>4</th>\n",
       "      <td>계</td>\n",
       "      <td>영업용 (대)</td>\n",
       "      <td>11098</td>\n",
       "      <td>4173</td>\n",
       "      <td>6925</td>\n",
       "      <td>11487</td>\n",
       "      <td>4010</td>\n",
       "      <td>7477</td>\n",
       "      <td>11386</td>\n",
       "      <td>4099</td>\n",
       "      <td>7287</td>\n",
       "      <td>11546</td>\n",
       "      <td>4058</td>\n",
       "      <td>7488</td>\n",
       "      <td>11585</td>\n",
       "      <td>4104</td>\n",
       "      <td>7481</td>\n",
       "      <td>11421</td>\n",
       "      <td>4214</td>\n",
       "      <td>7207</td>\n",
       "    </tr>\n",
       "  </tbody>\n",
       "</table>\n",
       "</div>"
      ],
      "text/plain": [
       "   차종별        항목 2021.10 2021.10.1 2021.10.2    2016  2016.1  2016.2    2017  \\\n",
       "0  차종별        항목     전주시       완산구       덕진구     전주시     완산구     덕진구     전주시   \n",
       "1    계     계 (대)  337952    157354    180598  296296  148995  147301  303580   \n",
       "2    계  관  용 (대)    1099       759       340     916     559     357     957   \n",
       "3    계   자가용 (대)  325755    152422    173333  283893  144426  139467  291237   \n",
       "4    계   영업용 (대)   11098      4173      6925   11487    4010    7477   11386   \n",
       "\n",
       "   2017.1  2017.2    2018  2018.1  2018.2    2019  2019.1  2019.2    2020  \\\n",
       "0     완산구     덕진구     전주시     완산구     덕진구     전주시     완산구     덕진구     전주시   \n",
       "1  152598  150982  315489  150426  165063  324152  151111  173041  334386   \n",
       "2     589     368    1013     595     418    1077     670     407    1095   \n",
       "3  147910  143327  302930  145773  157157  311490  146337  165153  321870   \n",
       "4    4099    7287   11546    4058    7488   11585    4104    7481   11421   \n",
       "\n",
       "   2020.1  2020.2  \n",
       "0     완산구     덕진구  \n",
       "1  155805  178581  \n",
       "2     718     377  \n",
       "3  150873  170997  \n",
       "4    4214    7207  "
      ]
     },
     "execution_count": 23,
     "metadata": {},
     "output_type": "execute_result"
    }
   ],
   "source": [
    "import pandas as pd\n",
    "\n",
    "data = pd.read_csv('C:/Users/hyunj/Desktop/전주공모전자료/자동차등록현황/자동차_등록_현황_20220815195606.csv', encoding = 'CP949')\n",
    "data.head()"
   ]
  },
  {
   "cell_type": "code",
   "execution_count": 24,
   "id": "0c10fc38",
   "metadata": {},
   "outputs": [
    {
     "data": {
      "text/plain": [
       "Index(['차종별', '항목', '2021.10', '2021.10.1', '2021.10.2', '2016', '2016.1',\n",
       "       '2016.2', '2017', '2017.1', '2017.2', '2018', '2018.1', '2018.2',\n",
       "       '2019', '2019.1', '2019.2', '2020', '2020.1', '2020.2'],\n",
       "      dtype='object')"
      ]
     },
     "execution_count": 24,
     "metadata": {},
     "output_type": "execute_result"
    }
   ],
   "source": [
    "data.columns"
   ]
  },
  {
   "cell_type": "code",
   "execution_count": 25,
   "id": "45bf321f",
   "metadata": {},
   "outputs": [],
   "source": [
    "전주_year = ['2016', '2017', '2018', '2019', '2020', '2021.10']\n",
    "완산_year = ['2016.1', '2017.1', '2018.1', '2019.1', '2020.1', '2021.10.1']\n",
    "덕진_year = ['2016.2', '2017.2', '2018.2', '2019.2', '2020.2', '2021.10.2']"
   ]
  },
  {
   "cell_type": "code",
   "execution_count": 26,
   "id": "d6ffa947",
   "metadata": {},
   "outputs": [],
   "source": [
    "전주시 = []\n",
    "완산구 = []\n",
    "덕진구 = []\n",
    "\n",
    "for year in 전주_year :\n",
    "    전주시.append(data.loc[3, year])\n",
    "for year in 완산_year :\n",
    "    완산구.append(data.loc[3, year])\n",
    "for year in 덕진_year :\n",
    "    덕진구.append(data.loc[3, year])\n",
    "            "
   ]
  },
  {
   "cell_type": "code",
   "execution_count": 27,
   "id": "01f9dc59",
   "metadata": {},
   "outputs": [
    {
     "data": {
      "text/plain": [
       "['283893', '291237', '302930', '311490', '321870', '325755']"
      ]
     },
     "execution_count": 27,
     "metadata": {},
     "output_type": "execute_result"
    }
   ],
   "source": [
    "전주시"
   ]
  },
  {
   "cell_type": "code",
   "execution_count": 28,
   "id": "ec4bc58a",
   "metadata": {},
   "outputs": [
    {
     "data": {
      "text/plain": [
       "['144426', '147910', '145773', '146337', '150873', '152422']"
      ]
     },
     "execution_count": 28,
     "metadata": {},
     "output_type": "execute_result"
    }
   ],
   "source": [
    "완산구"
   ]
  },
  {
   "cell_type": "code",
   "execution_count": 29,
   "id": "63e775d4",
   "metadata": {},
   "outputs": [
    {
     "data": {
      "text/plain": [
       "['139467', '143327', '157157', '165153', '170997', '173333']"
      ]
     },
     "execution_count": 29,
     "metadata": {},
     "output_type": "execute_result"
    }
   ],
   "source": [
    "덕진구"
   ]
  },
  {
   "cell_type": "code",
   "execution_count": 30,
   "id": "646e32e7",
   "metadata": {},
   "outputs": [],
   "source": [
    "# (올해의 값 - 작년의 값) / 작년의 값 *100\n",
    "def Year_on_Year(list) :\n",
    "    temp_list = []\n",
    "    for i in range(len(list)-1) :\n",
    "        rate = (float(list[i+1]) - float(list[i])) / float(list[i]) * 100\n",
    "        rate = round(rate, 2)\n",
    "        temp_list.append(rate)\n",
    "    return temp_list\n",
    "        "
   ]
  },
  {
   "cell_type": "code",
   "execution_count": 31,
   "id": "f3c8d895",
   "metadata": {},
   "outputs": [],
   "source": [
    "rate_전주 = Year_on_Year(전주시)\n",
    "rate_완산 = Year_on_Year(완산구)\n",
    "rate_덕진 = Year_on_Year(덕진구)"
   ]
  },
  {
   "cell_type": "code",
   "execution_count": 32,
   "id": "1fa0aafe",
   "metadata": {},
   "outputs": [
    {
     "data": {
      "text/plain": [
       "[2.59, 4.01, 2.83, 3.33, 1.21]"
      ]
     },
     "execution_count": 32,
     "metadata": {},
     "output_type": "execute_result"
    }
   ],
   "source": [
    "rate_전주"
   ]
  },
  {
   "cell_type": "code",
   "execution_count": 33,
   "id": "fc9f6d2f",
   "metadata": {},
   "outputs": [
    {
     "data": {
      "text/plain": [
       "[2.41, -1.44, 0.39, 3.1, 1.03]"
      ]
     },
     "execution_count": 33,
     "metadata": {},
     "output_type": "execute_result"
    }
   ],
   "source": [
    "rate_완산"
   ]
  },
  {
   "cell_type": "code",
   "execution_count": 34,
   "id": "a9615ed4",
   "metadata": {},
   "outputs": [
    {
     "data": {
      "text/plain": [
       "[2.77, 9.65, 5.09, 3.54, 1.37]"
      ]
     },
     "execution_count": 34,
     "metadata": {},
     "output_type": "execute_result"
    }
   ],
   "source": [
    "rate_덕진"
   ]
  },
  {
   "cell_type": "code",
   "execution_count": 40,
   "id": "72a132f9",
   "metadata": {},
   "outputs": [
    {
     "data": {
      "image/png": "[encoded data removed]",
      "text/plain": [
       "<Figure size 576x576 with 1 Axes>"
      ]
     },
     "metadata": {},
     "output_type": "display_data"
    }
   ],
   "source": [
    "import matplotlib.pyplot as plt\n",
    "\n",
    "x_axis = ['2016-2017년', '2017-2018년', '2018-2019년', '2019-2020년', '2020-2021.10년']\n",
    "y_axis = ['-2%', '0%', '+2%', '+4%', '+6%', '+8%', '+10%']\n",
    "\n",
    "fig = plt.figure(figsize=(8,8)) ## 캔버스 생성\n",
    "fig.set_facecolor('white') ## 캔버스 색상 설정\n",
    "ax = fig.add_subplot() ## 그림 뼈대(프레임) 생성\n",
    " \n",
    "ax.plot(x_axis,rate_전주,marker='o',label='전주시') ## 선그래프 생성\n",
    "ax.plot(x_axis,rate_완산,marker='o',label='완산구') \n",
    "ax.plot(x_axis,rate_덕진,marker='o',label='덕진구') \n",
    "plt.axhline(y=0, color='r',linestyle='--', linewidth=2)\n",
    "plt.yticks([-2,0,2,4,6,8,10], y_axis)\n",
    "ax.legend() ## 범례\n",
    " \n",
    "plt.title('지역별 자동차 등록 현황',fontsize=20) ## 타이틀 설정\n",
    "plt.show()"
   ]
  },
  {
   "cell_type": "code",
   "execution_count": 41,
   "id": "276549a3",
   "metadata": {},
   "outputs": [
    {
     "data": {
      "text/html": [
       "<div>\n",
       "<style scoped>\n",
       "    .dataframe tbody tr th:only-of-type {\n",
       "        vertical-align: middle;\n",
       "    }\n",
       "\n",
       "    .dataframe tbody tr th {\n",
       "        vertical-align: top;\n",
       "    }\n",
       "\n",
       "    .dataframe thead th {\n",
       "        text-align: right;\n",
       "    }\n",
       "</style>\n",
       "<table border=\"1\" class=\"dataframe\">\n",
       "  <thead>\n",
       "    <tr style=\"text-align: right;\">\n",
       "      <th></th>\n",
       "      <th>전주시</th>\n",
       "      <th>완산구</th>\n",
       "      <th>덕진구</th>\n",
       "    </tr>\n",
       "  </thead>\n",
       "  <tbody>\n",
       "    <tr>\n",
       "      <th>2016</th>\n",
       "      <td>283893</td>\n",
       "      <td>144426</td>\n",
       "      <td>139467</td>\n",
       "    </tr>\n",
       "    <tr>\n",
       "      <th>2017</th>\n",
       "      <td>291237</td>\n",
       "      <td>147910</td>\n",
       "      <td>143327</td>\n",
       "    </tr>\n",
       "    <tr>\n",
       "      <th>2018</th>\n",
       "      <td>302930</td>\n",
       "      <td>145773</td>\n",
       "      <td>157157</td>\n",
       "    </tr>\n",
       "    <tr>\n",
       "      <th>2019</th>\n",
       "      <td>311490</td>\n",
       "      <td>146337</td>\n",
       "      <td>165153</td>\n",
       "    </tr>\n",
       "    <tr>\n",
       "      <th>2020</th>\n",
       "      <td>321870</td>\n",
       "      <td>150873</td>\n",
       "      <td>170997</td>\n",
       "    </tr>\n",
       "    <tr>\n",
       "      <th>2021.10</th>\n",
       "      <td>325755</td>\n",
       "      <td>152422</td>\n",
       "      <td>173333</td>\n",
       "    </tr>\n",
       "  </tbody>\n",
       "</table>\n",
       "</div>"
      ],
      "text/plain": [
       "            전주시     완산구     덕진구\n",
       "2016     283893  144426  139467\n",
       "2017     291237  147910  143327\n",
       "2018     302930  145773  157157\n",
       "2019     311490  146337  165153\n",
       "2020     321870  150873  170997\n",
       "2021.10  325755  152422  173333"
      ]
     },
     "execution_count": 41,
     "metadata": {},
     "output_type": "execute_result"
    }
   ],
   "source": [
    "import pandas as pd\n",
    "\n",
    "df = pd.DataFrame({'전주시' : 전주시, '완산구' : 완산구, '덕진구' : 덕진구}, index = 전주_year)\n",
    "df"
   ]
  },
  {
   "cell_type": "code",
   "execution_count": 58,
   "id": "1e6fb7d4",
   "metadata": {},
   "outputs": [
    {
     "data": {
      "image/png": "[encoded data removed]",
      "text/plain": [
       "<Figure size 864x432 with 1 Axes>"
      ]
     },
     "metadata": {
      "needs_background": "light"
     },
     "output_type": "display_data"
    }
   ],
   "source": [
    "import matplotlib.pyplot as plt\n",
    "import numpy as np\n",
    "\n",
    "# 그림 사이즈, 바 굵기 조정\n",
    "fig, ax = plt.subplots(figsize=(12,6))\n",
    "bar_width = 0.25\n",
    "\n",
    "index = np.arange(6)\n",
    "\n",
    "b1 = plt.bar(index, df['전주시'], bar_width, alpha=0.4, color='red', label='전주시')\n",
    "\n",
    "b2 = plt.bar(index + bar_width, df['완산구'], bar_width, alpha=0.4, color='blue', label='완산구')\n",
    "\n",
    "b3 = plt.bar(index + 2 * bar_width, df['덕진구'], bar_width, alpha=0.4, color='green', label='덕진구')\n",
    "\n",
    "# x축 위치를 정 가운데로 조정하고 x축의 텍스트를 year 정보와 매칭\n",
    "plt.xticks(np.arange(bar_width, 6 + bar_width, 1), 전주_year)\n",
    "# x축, y축 이름 및 범례 설정\n",
    "plt.xlabel('year', size = 13)\n",
    "plt.ylabel('자동차 등록 대수', size = 13)\n",
    "plt.legend()\n",
    "plt.show()"
   ]
  },
  {
   "cell_type": "code",
   "execution_count": 79,
   "id": "df5e182c",
   "metadata": {},
   "outputs": [
    {
     "data": {
      "image/png": "[encoded data removed]",
      "text/plain": [
       "<Figure size 1800x1080 with 3 Axes>"
      ]
     },
     "metadata": {
      "needs_background": "light"
     },
     "output_type": "display_data"
    }
   ],
   "source": [
    "# (1-1) multiple bar plots with different y axis scale\n",
    "plt.rcParams['figure.figsize'] = [25, 15]\n",
    "for i, group in enumerate(['전주시', '완산구', '덕진구']) :\n",
    "    temp_df = df[group]\n",
    "    plt.subplot(1, 3, i+1)\n",
    "    plt.bar(temp_df.index, df[group], color='blue', alpha = 0.5)\n",
    "    plt.title('%s' %group, fontsize=18)\n",
    "    plt.xlabel('연도', fontsize=14)\n",
    "    plt.ylabel('자동차 등록 대수', fontsize=14)\n",
    "    plt.xticks(fontsize=12)\n",
    "    plt.yticks(fontsize=12)\n",
    "    "
   ]
  },
  {
   "cell_type": "code",
   "execution_count": 80,
   "id": "410e929c",
   "metadata": {},
   "outputs": [
    {
     "data": {
      "text/plain": [
       "'325755'"
      ]
     },
     "execution_count": 80,
     "metadata": {},
     "output_type": "execute_result"
    }
   ],
   "source": [
    "max(df['전주시'])"
   ]
  },
  {
   "cell_type": "code",
   "execution_count": null,
   "id": "ed15a619",
   "metadata": {},
   "outputs": [],
   "source": []
  }
 ],
 "metadata": {
  "kernelspec": {
   "display_name": "Python 3 (ipykernel)",
   "language": "python",
   "name": "python3"
  },
  "language_info": {
   "codemirror_mode": {
    "name": "ipython",
    "version": 3
   },
   "file_extension": ".py",
   "mimetype": "text/x-python",
   "name": "python",
   "nbconvert_exporter": "python",
   "pygments_lexer": "ipython3",
   "version": "3.9.12"
  }
 },
 "nbformat": 4,
 "nbformat_minor": 5
}
